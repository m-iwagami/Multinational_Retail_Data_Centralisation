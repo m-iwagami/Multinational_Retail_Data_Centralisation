{
 "cells": [
  {
   "cell_type": "code",
   "execution_count": null,
   "metadata": {},
   "outputs": [],
   "source": [
    "#How many stores does business have in which countries?\n",
    "\n",
    "SELECT country_code, count(*) as occurances\n",
    "FROM dim_store_details\n",
    "GROUP BY country_code\n",
    "order by occurances desc;\n",
    "\n",
    "![](_screenshot1.png)\n"
   ]
  },
  {
   "cell_type": "code",
   "execution_count": null,
   "metadata": {},
   "outputs": [],
   "source": [
    "#Which location has most stores?\n",
    "\n",
    "SELECT locality, count(*) as occurances\n",
    "FROM dim_store_details\n",
    "GROUP BY locality\n",
    "order by occurances desc;"
   ]
  },
  {
   "cell_type": "code",
   "execution_count": null,
   "metadata": {},
   "outputs": [],
   "source": [
    "#Which months has highest sales\n",
    "\n",
    "SELECT month,\n",
    "SUM(product_quantity*product_price) as total_price\n",
    "from orders_table\n",
    "JOIN dim_products on orders_table.product_code = dim_products.product_code\n",
    "JOIN dim_date_times on orders_table.date_uuid = dim_date_times.date_uuid\n",
    "GROUP by month\n",
    "ORDER by total_price desc;"
   ]
  },
  {
   "cell_type": "code",
   "execution_count": null,
   "metadata": {},
   "outputs": [],
   "source": [
    "# How many sales were coming from Online?\n",
    "SELECT SUM(product_quantity) AS total_product_quantity, store_code\n",
    "FROM orders_table\n",
    "WHERE store_code = 'WEB-1388012W'\n",
    "GROUP BY store_code\n",
    "\n",
    "UNION\n",
    "\n",
    "SELECT SUM(product_quantity) AS total_product_quantity, 'Others' as store_code\n",
    "FROM orders_table\n",
    "WHERE store_code <> 'WEB-1388012W'\n"
   ]
  },
  {
   "cell_type": "code",
   "execution_count": null,
   "metadata": {},
   "outputs": [],
   "source": [
    "#What percentage of sales comes from each store?\n",
    "SELECT store_type,\n",
    "SUM(product_quantity*product_price) as total_price,\n",
    "ROUND(count(*) * 100.0 / (select count(*) from orders_table),2) as percentage\n",
    "\n",
    "from orders_table\n",
    "JOIN dim_products on orders_table.product_code = dim_products.product_code\n",
    "JOIN dim_store_details on orders_table.store_code = dim_store_details.store_code\n",
    "GROUP BY store_type\n",
    "ORDER by total_price desc;"
   ]
  },
  {
   "cell_type": "code",
   "execution_count": null,
   "metadata": {},
   "outputs": [],
   "source": [
    "#Which month in each year produced the highest cost of sales?\n",
    "\n",
    "WITH ranked_prices AS (\n",
    "  SELECT\n",
    "    year,\n",
    "    month,\n",
    "    SUM(product_quantity * product_price) AS total_price,\n",
    "    RANK() OVER (PARTITION BY year ORDER BY SUM(product_quantity * product_price) DESC) AS price_rank\n",
    "  FROM orders_table\n",
    "  JOIN dim_products ON orders_table.product_code = dim_products.product_code\n",
    "  JOIN dim_date_times ON orders_table.date_uuid = dim_date_times.date_uuid\n",
    "  GROUP BY year, month\n",
    ")\n",
    "SELECT year, month, total_price\n",
    "FROM ranked_prices\n",
    "WHERE price_rank = 1\n",
    "ORDER BY year, month;\n",
    "\n",
    "\n",
    "SELECT year,month,\n",
    "SUM(product_quantity*product_price) as total_price\n",
    "from orders_table\n",
    "JOIN dim_products on orders_table.product_code = dim_products.product_code\n",
    "JOIN dim_date_times on orders_table.date_uuid = dim_date_times.date_uuid\n",
    "GROUP by year, month\n",
    "ORDER by total_price desc;"
   ]
  },
  {
   "cell_type": "code",
   "execution_count": null,
   "metadata": {},
   "outputs": [],
   "source": [
    "#What is our staff headcount?\n",
    "\n",
    "SELECT sum(staff_numbers) as total_staffs, country_code\n",
    "FROM dim_store_details\n",
    "GROUP by country_code\n",
    "order by total_staffs desc;"
   ]
  },
  {
   "cell_type": "code",
   "execution_count": null,
   "metadata": {},
   "outputs": [],
   "source": [
    "#Which German store type is selling most?\n",
    "SELECT store_type, \n",
    "SUM(product_quantity*product_price) as total_price,\n",
    "country_code \n",
    "FROM orders_table\n",
    "JOIN dim_products on orders_table.product_code = dim_products.product_code\n",
    "JOIN dim_store_details on orders_table.store_code = dim_store_details.store_code\n",
    "WHERE country_code = 'DE'\n",
    "GROUP by store_type, country_code\n",
    "order by total_price asc;\n",
    "\n"
   ]
  },
  {
   "cell_type": "code",
   "execution_count": null,
   "metadata": {},
   "outputs": [],
   "source": [
    "#How quickly is the company making sales?\n",
    "\n",
    "WITH cte AS \n",
    "(\n",
    "  SELECT  \n",
    "    year,\n",
    "    TO_TIMESTAMP(CONCAT_WS('-', year, month, day, timestamp), 'YYYY-MM-DD-HH24:MI:SS') as sales_time\n",
    "  FROM \n",
    "    dim_date_times\n",
    "  ORDER BY \n",
    "    year, sales_time ASC\n",
    "),\n",
    "next_sales_duration AS \n",
    "(\n",
    "  SELECT \n",
    "    year,\n",
    "    LEAD(sales_time) OVER (PARTITION BY year ORDER BY sales_time ASC) - sales_time AS duration\n",
    "  FROM \n",
    "    cte\n",
    ")\n",
    " \n",
    "SELECT \n",
    "  year, \n",
    "  CONCAT(\n",
    "    '{\"hours\": ', FLOOR(AVG(EXTRAC\n",
    "    '{\"hours\": ', FLOOR(AVG(EXTRACT(EPOCH FROM next_sales_duration.duration)) / 3600),\n",
    "    ', \"minutes\": ', FLOOR((AVG(EXTRACT(EPOCH FROM next_sales_duration.duration)) % 3600) / 60),\n",
    "    ', \"seconds\": ', FLOOR(AVG(EXTRACT(EPOCH FROM next_sales_duration.duration)) % 60),\n",
    "    ' }') AS avg_sales_duration,\n",
    "  AVG(EXTRACT(EPOCH FROM duration)) as avg_sales_duration_seconds\n",
    "\n",
    "FROM \n",
    "  next_sales_duration\n",
    "GROUP BY \n",
    "  year\n",
    "ORDER BY \n",
    "  avg_sales_duration_seconds desc;"
   ]
  }
 ],
 "metadata": {
  "language_info": {
   "name": "python"
  },
  "orig_nbformat": 4
 },
 "nbformat": 4,
 "nbformat_minor": 2
}
